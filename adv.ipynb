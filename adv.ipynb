{
 "cells": [
  {
   "cell_type": "code",
   "execution_count": 1,
   "metadata": {},
   "outputs": [],
   "source": [
    "# Descriptions of rooms\n",
    "descriptions = {\n",
    "    \"outside\": \"greenery all around you, you are outside the house, which stands in front of you.\",\n",
    "    \"kitchen\": \"a kitchen filled with food. To your north is the living room; stairs are west\",\n",
    "    'living room': \"comfy furniture placed in a living room. To the north is the cellar; to the south is the kitchen.\",\n",
    "    'stairs': \"some tall stairs ahead. Up them is the bathroom. The kitchen is East of you\",\n",
    "    'bathroom': \"a marble bathroom. Behind you are the stairs.\",\n",
    "    'cellar': \"a dank cellar. Behind you is the living room.\"\n",
    "}"
   ]
  },
  {
   "cell_type": "code",
   "execution_count": 2,
   "metadata": {},
   "outputs": [],
   "source": [
    "# Exits from each room, i.e, where can I go\n",
    "locations = {\n",
    "    'outside': {'N': 'kitchen'},\n",
    "    'kitchen': {'N': 'living room', 'W': 'stairs', 'S':'outside'},\n",
    "    'living room': {'S': 'kitchen', 'N': 'cellar'},\n",
    "    'stairs': {'N': 'bathroom', 'E': 'kitchen'},\n",
    "    'bathroom': {'S': 'stairs'},\n",
    "    'cellar': {'S': 'living room'}\n",
    "}"
   ]
  },
  {
   "cell_type": "code",
   "execution_count": 3,
   "metadata": {},
   "outputs": [],
   "source": [
    "# Takes in current_location, returns updated version of current_location based on user input\n",
    "def move_room(current_location):\n",
    "    print(f'You see {descriptions[current_location]}')\n",
    "    direction = input(\"Where do you want to go? (N/E/S/W) or type 'Q' to exit: \").upper()\n",
    "\n",
    "\n",
    "    # To quit the game\n",
    "    if direction == 'Q':\n",
    "        return 'Q'\n",
    "    \n",
    "    # To move to the new location\n",
    "    elif direction in locations[current_location]:\n",
    "        new_location = locations[current_location][direction]\n",
    "        return new_location\n",
    "    \n",
    "    # Stays in the same location as the input was not recognised\n",
    "    else:\n",
    "        print(\"Invalid direction. Please try again.\")\n",
    "        return current_location\n",
    "    "
   ]
  },
  {
   "cell_type": "code",
   "execution_count": 4,
   "metadata": {},
   "outputs": [
    {
     "name": "stdout",
     "output_type": "stream",
     "text": [
      "Welcome to the Text Based Adventure Game!\n",
      "You see greenery all around you, you are outside the house, which stands in front of you.\n",
      "You see a kitchen filled with food. To your north is the living room; stairs are west\n",
      "Invalid direction. Please try again.\n",
      "You see a kitchen filled with food. To your north is the living room; stairs are west\n",
      "Invalid direction. Please try again.\n",
      "You see a kitchen filled with food. To your north is the living room; stairs are west\n",
      "Invalid direction. Please try again.\n",
      "You see a kitchen filled with food. To your north is the living room; stairs are west\n",
      "Invalid direction. Please try again.\n",
      "You see a kitchen filled with food. To your north is the living room; stairs are west\n",
      "Invalid direction. Please try again.\n",
      "You see a kitchen filled with food. To your north is the living room; stairs are west\n",
      "You see some tall stairs ahead. Up them is the bathroom. The kitchen is East of you\n",
      "Invalid direction. Please try again.\n",
      "You see some tall stairs ahead. Up them is the bathroom. The kitchen is East of you\n",
      "You see a kitchen filled with food. To your north is the living room; stairs are west\n",
      "You see comfy furniture placed in a living room. To the north is the cellar; to the south is the kitchen.\n",
      "You see a dank cellar. Behind you is the living room.\n",
      "Invalid direction. Please try again.\n",
      "You see a dank cellar. Behind you is the living room.\n",
      "Thanks for playing!\n"
     ]
    }
   ],
   "source": [
    "# Main game loop\n",
    "# The game starts outside\n",
    "def main():\n",
    "    current_location = 'outside' \n",
    "    print(\"Welcome to the Text Based Adventure Game!\")\n",
    "\n",
    "    #Keep playing until the user types Q (exit)\n",
    "    while current_location != 'Q': \n",
    "        current_location = move_room(current_location)\n",
    "\n",
    "    print(\"Thanks for playing!\")\n",
    "\n",
    "# Execute the game\n",
    "if __name__ == \"__main__\":\n",
    "        main()"
   ]
  },
  {
   "cell_type": "code",
   "execution_count": null,
   "metadata": {},
   "outputs": [],
   "source": []
  }
 ],
 "metadata": {
  "kernelspec": {
   "display_name": "Python 3",
   "language": "python",
   "name": "python3"
  },
  "language_info": {
   "codemirror_mode": {
    "name": "ipython",
    "version": 3
   },
   "file_extension": ".py",
   "mimetype": "text/x-python",
   "name": "python",
   "nbconvert_exporter": "python",
   "pygments_lexer": "ipython3",
   "version": "3.9.6"
  }
 },
 "nbformat": 4,
 "nbformat_minor": 2
}
