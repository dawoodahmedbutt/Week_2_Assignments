{
 "cells": [
  {
   "cell_type": "code",
   "execution_count": 1,
   "metadata": {},
   "outputs": [
    {
     "name": "stdout",
     "output_type": "stream",
     "text": [
      "Welcome to your Cyberpunk Adventure!\n",
      "You are in a futuristic, neon-lit metropolis, dominated by mega corporations and oppressive government surveillance.\n",
      "You wake op one day, and say to yourself that you've had enough. You want to change it, for the good of everyone. \n",
      "You think to yourself that you are going to stop all those evil corps and corrupt government\n"
     ]
    }
   ],
   "source": [
    "# Adventure game\n",
    "# 6 rooms max\n",
    "# Strings, Variables, Input/Output, If/Else Statements, Print, List, Integers\n",
    "\n",
    "# tracking how far ive got into each room\n",
    "# description of each room\n",
    "\n",
    "\n",
    "\n",
    "# Print out an opening message ... welcome to the game yada yada \n",
    "\n",
    "print (\"Welcome to your Cyberpunk Adventure!\")\n",
    "print (\"You are in a futuristic, neon-lit metropolis, dominated by mega corporations and oppressive government surveillance.\")\n",
    "print (\"You wake op one day, and say to yourself that you've had enough. You want to change it, for the good of everyone. \")\n",
    "print (\"You think to yourself that you are going to stop all those evil corps and corrupt government.\")\n",
    "\n",
    "\n"
   ]
  },
  {
   "cell_type": "code",
   "execution_count": null,
   "metadata": {},
   "outputs": [],
   "source": [
    "### IDEAS\n",
    "# step 1 decide what to do - \n",
    "# you know that there is one person who is key to bringing this all down, and their name is X\n",
    "# in order to do this, you need to complete a number of tasks \n",
    "# you need to infiltrate SecurityCo and hack into their systems in order to free X who can help you\n",
    "\n",
    "# Its day one of your new mission, you have dropped everything...\n",
    "# you are securitycos HQ - you need to try and find a way in without alerting security.\n",
    "\n",
    "# You are in the lobby. a receptionist greets you and asks if you'd like a beverage (say yes or no)\n",
    "# if you say yes, the receptionist will get you a beverage\n",
    "# when she gets you a beverage, you have the opportunity to take their swipe card, this gives you access through the barriers. do you take the card (Y/N)\n",
    "# if you take the card, you now have access to the building\n",
    "# if you dont take the card, security will approach and ask you what you're doing, in the end you'll be kicked out\n",
    "\n",
    "# if you say no to the beverage, after a while, security will get suspicious, and you will get escorted out the building - GAME ENDS... you were not able to complete the challenge\n",
    "\n",
    "# you now have the swipe card. \n",
    "# you pretend like you're waiting for someone, while waiting for an opportunity to arise for you to get through the barriers\n",
    "# there is an opportunity that the badge will raise an alarm -->\n",
    "# do you go when theres lots of people or when theres fewer people?\n",
    "# lots of people --> an alarm is raised, but you act confident and carry on as you were\n",
    "# not lots of people --> alarm is raised, security got you and kicked you out...\n",
    "\n",
    "\n",
    "# got through the barriers. \n",
    "# there is a lift in front of you...\n",
    "# do you want to go up or down...\n",
    "# either choice will prompt the user to enter the lift. \n",
    "# you are alone in the lift...\n",
    "# just before the lift departs, the security guard steps in. as soon as the doors close, the security guy asks for your id\n",
    "# options : 1. here's my ID (hands fake ID)... / 2. dont have my ID / 3. start panicking...\n",
    "# if you choose option 1 and 2, give the option to knock the security guy out. if KO Y, secuirty guy is KO'd, otherwise, security will spot you and kick you out\n",
    "# option 3 ... panicking, security guy kicks you out\n",
    "\n",
    "# you have KO'd the security guy. you now want to go to the server rooms...\n",
    "# its in the basement of the building...\n",
    "\n",
    "\n",
    "\n",
    "\n"
   ]
  },
  {
   "cell_type": "code",
   "execution_count": 5,
   "metadata": {},
   "outputs": [
    {
     "name": "stdout",
     "output_type": "stream",
     "text": [
      "some form of intro message\n",
      "You have magically arrived at the mistery house!\n",
      "You are outside the house. It's an old looking house, with the roof tiles falling off, the paint could do with some work, and the front yard is severely overgrown\n"
     ]
    }
   ],
   "source": [
    "print (\"some form of intro message\")\n",
    "print (\"You have magically arrived at the mistery house!\")\n",
    "print (\"You are outside the house. It's an old looking house, with the roof tiles falling off, the paint could do with some work, and the front yard is severely overgrown\")"
   ]
  },
  {
   "cell_type": "code",
   "execution_count": 6,
   "metadata": {},
   "outputs": [
    {
     "name": "stdout",
     "output_type": "stream",
     "text": [
      "Do you want to enter the house?\n",
      "You have entered the house and are now in the kitchen\n"
     ]
    }
   ],
   "source": [
    "# Ask the user if they'd like to enter the house\n",
    "message = input(print (\"Do you want to enter the house?\")).lower()\n",
    "if message == 'yes':\n",
    "    print (\"You have entered the house and are now in the kitchen\")\n",
    "elif message == 'no':\n",
    "    print (\"You have decided to turn away from the house, and have quit the game\")\n",
    "else:\n",
    "    print ('Invalid choice. Please input yes or no')"
   ]
  },
  {
   "cell_type": "code",
   "execution_count": 11,
   "metadata": {},
   "outputs": [
    {
     "name": "stdout",
     "output_type": "stream",
     "text": [
      "You are now in the kitchen. The cabinets are chipped and hanging slightly ajar, the tiles are cracked and stained, and a faint smell of grease lingers in the air, mingling with the musty scent of forgotten leftovers.\n",
      "There is a smell of gas coming from the oven.\n",
      "You spotted that the oven was on, and so you turned it off. Phew! Disaster averted.\n",
      "You can now choose to enter the staircase or proceed into the living room.\n",
      "You are on the staircase. The wooden steps creak loudly with each movement, the banister is loose and splintered, and a layer of dust blankets everything, interrupted only by the faint trail of footprints.\n",
      "The staircase is blocked. In order to get past, you must solve a problem.\n",
      "You have correctly solved the problem. You may now proceed.\n"
     ]
    }
   ],
   "source": [
    "# Kitchen Description\n",
    "print(\"You are now in the kitchen. The cabinets are chipped and hanging slightly ajar, the tiles are cracked and stained, \"\n",
    "      \"and a faint smell of grease lingers in the air, mingling with the musty scent of forgotten leftovers.\")\n",
    "print(\"There is a smell of gas coming from the oven.\")\n",
    "\n",
    "# Get the user to choose whether they want to investigate the oven\n",
    "while True:\n",
    "    oven = input(\"Do you want to investigate the smell? (yes/no): \").lower()\n",
    "    if oven == 'yes':\n",
    "        print(\"There was gas leaking from the oven, and the moment you opened it, the gas ignited with a nearby ignition source. \"\n",
    "              \"The house blew up, but you were lucky to make it out with barely any scratches.\")\n",
    "        break\n",
    "    elif oven == 'no':\n",
    "        print(\"You spotted that the oven was on, and so you turned it off. Phew! Disaster averted.\")\n",
    "        break\n",
    "    else:\n",
    "        print(\"Invalid choice. Please input 'yes' or 'no'.\")\n",
    "\n",
    "# Ask the user if they want to go up the staircase or into the living room\n",
    "print(\"You can now choose to enter the staircase or proceed into the living room.\")\n",
    "\n",
    "while True:\n",
    "    room = input(\"Where would you like to go? (staircase/living room): \").lower()\n",
    "\n",
    "    if room == 'staircase':\n",
    "        print(\"You are on the staircase. The wooden steps creak loudly with each movement, \"\n",
    "              \"the banister is loose and splintered, and a layer of dust blankets everything, \"\n",
    "              \"interrupted only by the faint trail of footprints.\")\n",
    "        print(\"The staircase is blocked. In order to get past, you must solve a problem.\")\n",
    "\n",
    "        # Get the user to answer the problem\n",
    "        while True:\n",
    "            try:\n",
    "                math_problem = int(input(\"What is 3x3+3? \"))\n",
    "                if math_problem == 12:\n",
    "                    print(\"You have correctly solved the problem. You may now proceed.\")\n",
    "                    break\n",
    "                else:\n",
    "                    print(\"Oops! Wrong answer! The staircase cracks open, and you fall through the stairs, ending up in the cellar.\")\n",
    "                    break\n",
    "            except ValueError:\n",
    "                print(\"Invalid input. Please enter a valid number.\")\n",
    "        break\n",
    "\n",
    "    elif room == 'living room':\n",
    "        print(\"You're now in the living room.\")\n",
    "        break\n",
    "\n",
    "    else:\n",
    "        print(\"Invalid input. Please enter 'staircase' or 'living room'.\")"
   ]
  },
  {
   "cell_type": "code",
   "execution_count": 10,
   "metadata": {},
   "outputs": [
    {
     "name": "stdout",
     "output_type": "stream",
     "text": [
      "You can now choose to enter the staircase or proceed into the living room.\n",
      "You are on the staircase. The wooden steps creak loudly with each movement, the banister is loose and splintered, and a layer of dust blankets everything, interrupted only by the faint trail of footprints.\n",
      "The staircase is blocked. In order to get past, you must solve a problem.\n",
      "Oops! Wrong answer! The staircase cracks open, and you fall through the stairs, ending up in the cellar.\n"
     ]
    }
   ],
   "source": [
    "# Ask the user if they want to go up the staircase or into the living room\n",
    "print(\"You can now choose to enter the staircase or proceed into the living room.\")\n",
    "\n",
    "while True:\n",
    "    room = input(\"Where would you like to go? (staircase/living room): \").lower()\n",
    "\n",
    "    if room == 'staircase':\n",
    "        print(\"You are on the staircase. The wooden steps creak loudly with each movement, \"\n",
    "              \"the banister is loose and splintered, and a layer of dust blankets everything, \"\n",
    "              \"interrupted only by the faint trail of footprints.\")\n",
    "        print(\"The staircase is blocked. In order to get past, you must solve a problem.\")\n",
    "\n",
    "        # Get the user to answer the problem\n",
    "        while True:\n",
    "            try:\n",
    "                math_problem = int(input(\"What is 3x3+3? \"))\n",
    "                if math_problem == 12:\n",
    "                    print(\"You have correctly solved the problem. You may now proceed.\")\n",
    "                    break\n",
    "                else:\n",
    "                    print(\"Oops! Wrong answer! The staircase cracks open, and you fall through the stairs, ending up in the cellar.\")\n",
    "                    break\n",
    "            except ValueError:\n",
    "                print(\"Invalid input. Please enter a valid number.\")\n",
    "        break\n",
    "\n",
    "    elif room == 'living room':\n",
    "        print(\"You're now in the living room.\")\n",
    "        break\n",
    "\n",
    "    else:\n",
    "        print(\"Invalid input. Please enter 'staircase' or 'living room'.\")\n",
    "    \n",
    "    \n",
    "    "
   ]
  },
  {
   "cell_type": "code",
   "execution_count": null,
   "metadata": {},
   "outputs": [],
   "source": []
  }
 ],
 "metadata": {
  "kernelspec": {
   "display_name": "Python 3",
   "language": "python",
   "name": "python3"
  },
  "language_info": {
   "codemirror_mode": {
    "name": "ipython",
    "version": 3
   },
   "file_extension": ".py",
   "mimetype": "text/x-python",
   "name": "python",
   "nbconvert_exporter": "python",
   "pygments_lexer": "ipython3",
   "version": "3.9.6"
  }
 },
 "nbformat": 4,
 "nbformat_minor": 2
}
