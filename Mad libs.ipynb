{
 "cells": [
  {
   "cell_type": "code",
   "execution_count": 6,
   "metadata": {},
   "outputs": [
    {
     "name": "stdout",
     "output_type": "stream",
     "text": [
      "Please input 3 adjectives.\n",
      "Please input 3 animals.\n",
      "Please input 3 nouns.\n",
      "Please input 3 places.\n",
      "Please input 3 verbs.\n",
      "Enjoy your story!\n",
      "The 5 couldn't believe that the 8 could 15 so 2.\n",
      "Enjoy your story!\n",
      "The 8 had never seen such a 2 6 14 before.\n",
      "Enjoy your story!\n",
      "Deep in the 11, a 1 9 learned how to 15 from a wise 5.\n",
      "Enjoy your story!\n",
      "Deep in the 10, a 3 7 learned how to 15 from a wise 4.\n",
      "Enjoy your story!\n",
      "The most 2 11 was home to a 9 that loved to 13.\n",
      "Thank you for listening to me talk. \n"
     ]
    }
   ],
   "source": [
    "import random\n",
    "\n",
    "# Sample stories that will generate the final story based on user inputs\n",
    "sample_stories = [\n",
    "    \"The {adjective} {animal} discovered a {noun} hiding behind the {place}.\",\n",
    "    \"Deep in the {place}, a {adjective} {noun} learned how to {verb} from a wise {animal}.\",\n",
    "    \"Nobody knew why the {noun} would {verb} every time it visited the {place}.\",\n",
    "    \"The {adjective} {animal} built a secret {place} where {noun}s could {verb} freely.\",\n",
    "    \"There was a legend about a {adjective} {noun} that would {verb} near the {place}.\",\n",
    "    \"Every {animal} in the {place} wanted to {verb} with the {adjective} {noun}.\",\n",
    "    \"The most {adjective} {place} was home to a {noun} that loved to {verb}.\",\n",
    "    \"A {adjective} {animal} taught the {noun} how to {verb} in the middle of the {place}.\",\n",
    "    \"The {noun} had never seen such a {adjective} {animal} {verb} before.\",\n",
    "    \"At the edge of the {place}, the {adjective} {noun} met a mysterious {animal}.\",\n",
    "    \"The {animal} couldn't believe that the {noun} could {verb} so {adjective}.\",\n",
    "    \"Inside the {place}, the {adjective} {animal} found a {noun} trying to {verb}.\",\n",
    "    \"The {noun} traveled to every {place} to {verb} with each {adjective} {animal}.\",\n",
    "    \"Sometimes the {adjective} {noun} would {verb} while the {animal} watched.\",\n",
    "    \"The {place} became famous when a {adjective} {animal} and {noun} decided to {verb} there.\"\n",
    "]\n",
    "\n",
    "# Function to collect user inputs for a given category\n",
    "def user_inputs(category, count):\n",
    "\n",
    "    print(f\"Please input {count} {category}.\")\n",
    "    return [input(f\"Please insert {category[:-1]} #{i + 1}: \").strip() for i in range(count)]\n",
    "# Category[-1] means that the last character of category is being removed, i.e. adjectives --> adjectives as the s (the final character) is being removed.  \n",
    "# #{i+1} is which adjective i'm inserting. so if I'm on my second one, then it will say \"Please insert adjective 2\"\n",
    "\n",
    "# Define the number of items to collect. This could be whatever the user chooses. For simplicity, 3 has been chosen\n",
    "upper_bound = 3\n",
    "\n",
    "# Collect inputs for each category (adjectives is the category in user_inputs, and upper_bound is the count)\n",
    "adjectives = user_inputs(\"adjectives\", upper_bound)\n",
    "animals = user_inputs(\"animals\", upper_bound)\n",
    "nouns = user_inputs(\"nouns\", upper_bound)\n",
    "places = user_inputs(\"places\", upper_bound)\n",
    "verbs = user_inputs(\"verbs\", upper_bound)\n",
    "\n",
    "while True:\n",
    "# Ask the user if they would like to hear a story\n",
    "    message = input(\"Would you like to hear a story? yes/no: \").lower()\n",
    "    if message == \"yes\":\n",
    "            # Create a story if the user chooses yes\n",
    "            story = (random.choice(sample_stories)).format(\n",
    "                adjective = random.choice(adjectives),\n",
    "                animal = random.choice(animals),\n",
    "                noun = random.choice(nouns),\n",
    "                place = random.choice(places),\n",
    "                verb = random.choice(verbs),\n",
    "    )\n",
    "            print (\"Enjoy your story!\")\n",
    "            print(story) \n",
    "\n",
    "    elif message == \"no\":\n",
    "            # Another story will not be displayed if the user chooses no. \n",
    "            print (\"Thank you for listening to me talk. \")\n",
    "            break\n",
    "        # If the input is not yes/no, ask the user to input correctly\n",
    "    else:\n",
    "            print (\"Pick yes or no\")\n",
    "\n"
   ]
  },
  {
   "cell_type": "code",
   "execution_count": 3,
   "metadata": {},
   "outputs": [],
   "source": []
  },
  {
   "cell_type": "code",
   "execution_count": 4,
   "metadata": {},
   "outputs": [
    {
     "name": "stdout",
     "output_type": "stream",
     "text": [
      "Please input 3 adjectives.\n",
      "Please input 3 animals.\n",
      "Please input 3 nouns.\n",
      "Please input 3 places.\n",
      "Please input 3 verbs.\n"
     ]
    }
   ],
   "source": []
  },
  {
   "cell_type": "code",
   "execution_count": 5,
   "metadata": {},
   "outputs": [
    {
     "name": "stdout",
     "output_type": "stream",
     "text": [
      "Enjoy your story!\n",
      "At the edge of the big ben, the cold love met a mysterious cat.\n",
      "Enjoy your story!\n",
      "There was a legend about a hot democracy that would eating near the hong kong.\n",
      "Enjoy your story!\n",
      "The knowledge had never seen such a cold cat eating before.\n",
      "Enjoy your story!\n",
      "Nobody knew why the democracy would eating every time it visited the london.\n",
      "Pick yes or no\n",
      "Thank you for listening to me talk. \n"
     ]
    }
   ],
   "source": [
    "\n"
   ]
  },
  {
   "cell_type": "code",
   "execution_count": null,
   "metadata": {},
   "outputs": [
    {
     "name": "stdout",
     "output_type": "stream",
     "text": [
      "Please input 3 adjectives.\n"
     ]
    }
   ],
   "source": []
  },
  {
   "cell_type": "code",
   "execution_count": null,
   "metadata": {},
   "outputs": [],
   "source": [
    "\n",
    "\n",
    "\n",
    "# Create an empty list, which is called adjectives. This list will be used to input adjectives as chosen by the user. \n",
    "adjectives = []\n",
    "\n",
    "# define the number of items to collect\n",
    "lower_bound = 1\n",
    "upper_bound = 3\n",
    "\n",
    "# Looping to collect adjectives from the user\n",
    "print (f\"Please input {upper_bound} adjectives.\")\n",
    "\n",
    "for i in range (lower_bound, upper_bound+1):\n",
    "    adj_input = input (f\"Please insert adjective #{i}:\")\n",
    "    adjectives.append (adj_input)\n",
    "\n",
    "#The above step is repeated for all other variables (animal, noun, place and verb). Bounds do not need to be defined again, as this has already been defined above, that is, unless the user would like to re-define bounds. \n",
    "animals = []\n",
    "print (f\"Please input {upper_bound} animals.\")\n",
    "for i in range (lower_bound, upper_bound+1):\n",
    "    animal_input = input (f\"Please insert animal #{i}:\")\n",
    "    animals.append (animal_input)\n",
    "\n",
    "nouns = []\n",
    "print (f\"Please input {upper_bound} animals.\")\n",
    "for i in range (lower_bound, upper_bound+1):\n",
    "    noun_input = input (f\"Please insert noun #{i}:\")\n",
    "    nouns.append (noun_input)\n",
    "\n",
    "places = []\n",
    "print (f\"Please input {upper_bound} places.\")\n",
    "for i in range (lower_bound, upper_bound+1):\n",
    "    place_input = input (f\"Please insert place #{i}:\")\n",
    "    places.append (place_input)\n",
    "\n",
    "verbs = []\n",
    "print (f\"Please input {upper_bound} verbs.\")\n",
    "for i in range (lower_bound, upper_bound+1):\n",
    "    verb_input = input (f\"Please insert verb #{i}:\")\n",
    "    verbs.append (verb_input)"
   ]
  }
 ],
 "metadata": {
  "kernelspec": {
   "display_name": "Python 3",
   "language": "python",
   "name": "python3"
  },
  "language_info": {
   "codemirror_mode": {
    "name": "ipython",
    "version": 3
   },
   "file_extension": ".py",
   "mimetype": "text/x-python",
   "name": "python",
   "nbconvert_exporter": "python",
   "pygments_lexer": "ipython3",
   "version": "3.9.6"
  }
 },
 "nbformat": 4,
 "nbformat_minor": 2
}
